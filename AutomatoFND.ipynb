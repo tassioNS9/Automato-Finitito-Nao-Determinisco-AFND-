{
 "cells": [
  {
   "cell_type": "markdown",
   "id": "277ab538",
   "metadata": {},
   "source": [
    "O código ilustrado é uma representação de um Autômato Finito Não Determinístico que em outras palavras  para cada par de estado e símbolo de entrada pode haver vários próximos estados possíveis, sendo este código na linguagem de programação Python.Através do código propriamente referido, inicialmente foram declaradas as variáveis dos estados, alfabeto e a quantidade de transições."
   ]
  },
  {
   "cell_type": "code",
   "execution_count": null,
   "id": "5a5cc834",
   "metadata": {},
   "outputs": [],
   "source": [
    "estds = input().split(\" \")\n",
    "alfabeto = input().split(\" \")\n",
    "transacoes = int(input())\n"
   ]
  },
  {
   "cell_type": "markdown",
   "id": "43e88a4d",
   "metadata": {},
   "source": [
    "Temos uma hash table que nesse caso seria afnd que é a tabela de dispersão que será feita o armazenamento das supostas transições. Depois declarado o laço de repetição que fará o preenchimento para cada estado, continuamente outro laço que adiciona as transições para cada estado, entretanto estas são inseridas pelo usuário do programa uma seguida da outra."
   ]
  },
  {
   "cell_type": "code",
   "execution_count": null,
   "id": "f6ab5beb",
   "metadata": {},
   "outputs": [],
   "source": [
    "afnd = {}\n",
    "\n",
    "for estd in estds:\n",
    "    afnd[estd] = {}\n"
   ]
  },
  {
   "cell_type": "raw",
   "id": "ad16b9c4",
   "metadata": {},
   "source": [
    "Logo abaixo, estão as variáveis de estd_inicial, estd_final e palavras. Então temos um bloco de código responsável por reconhecer ou não palavras após completar o recurso AFND, além disso temos o laço de repetição while que vai depender da quantidade de transacoes estabelicidas, e as  entradas de  elementInicial, elementAtual, elementFinal para ir formando o array de acordo ao AFND."
   ]
  },
  {
   "cell_type": "code",
   "execution_count": null,
   "id": "2aea9114",
   "metadata": {},
   "outputs": [],
   "source": [
    "# Realiza a quantidade de transações a depender do valor do usuario\n",
    "contador = 0\n",
    "while (contador < transacoes):\n",
    "\n",
    "    elementInicial, elementAtual, elementFinal = input().split(\" \")\n",
    "    if elementAtual not in afnd[elementInicial]:\n",
    "        afnd[elementInicial][elementAtual] = [elementFinal]\n",
    "    else:\n",
    "        afnd[elementInicial][elementAtual].append(elementFinal)\n",
    "    contador = contador + 1\n",
    "\n",
    "#faz a leitura e armazena os valores dos estados iniciais, final e das palavras\n",
    "estd_inicial = input()\n",
    "estd_final = input().split(\" \")\n",
    "palavras = input().split(\" \")"
   ]
  },
  {
   "cell_type": "markdown",
   "id": "d418931a",
   "metadata": {},
   "source": [
    "Com tudo, temos uma declaração de outra tabela relacionado aos estados finais, em seguida um laço de repetição for para preenchelo com o valor 1. Abaixo uma sequência de for aninhados é formado com a finalidade de percorrer cada um dos caracteres da string (palavra) que está sendo analisada. Por fim caso a transição exista o novo estado atual sera definido, caso não exista o AFD irar executar a transição para o estado de erro, em seguida é feita a verificação se o estado final é de erro ou não , retornando “N” caso seja verdade e “S” caso não."
   ]
  },
  {
   "cell_type": "code",
   "execution_count": null,
   "id": "845d24af",
   "metadata": {},
   "outputs": [],
   "source": [
    "estds_finais = {}\n",
    "\n",
    "for index in estd_final:\n",
    "    estds_finais[index] = 1\n",
    "\n",
    "for palavra in palavras:\n",
    "    estdsAtuais = [estd_inicial]\n",
    "    estdFinal = 0\n",
    "\n",
    "    for letra in palavra:\n",
    "        novosEstados = []\n",
    "\n",
    "        for estd in estdsAtuais:\n",
    "            if(afnd[estd].get(letra)):\n",
    "\n",
    "                for novoEstado in afnd[estd][letra]:\n",
    "                    if(novoEstado not in novosEstados):\n",
    "                        novosEstados.append(novoEstado) # armazena um novo estado no array \n",
    "\n",
    "        estdsAtuais = novosEstados\n",
    "\n",
    "    for estd in estdsAtuais:\n",
    "        if(estds_finais.get(estd)):\n",
    "            estdFinal = 1\n",
    " # Escreve 'S' se a palavra for aceita e 'N' se a apalvra não for aceita pelo AFND\n",
    "    if(estdFinal == 1):\n",
    "        print('S')\n",
    "    else:\n",
    "        print('N')"
   ]
  }
 ],
 "metadata": {
  "kernelspec": {
   "display_name": "Python 3 (ipykernel)",
   "language": "python",
   "name": "python3"
  },
  "language_info": {
   "codemirror_mode": {
    "name": "ipython",
    "version": 3
   },
   "file_extension": ".py",
   "mimetype": "text/x-python",
   "name": "python",
   "nbconvert_exporter": "python",
   "pygments_lexer": "ipython3",
   "version": "3.9.7"
  }
 },
 "nbformat": 4,
 "nbformat_minor": 5
}
